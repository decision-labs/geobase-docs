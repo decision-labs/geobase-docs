{
  "cells": [
    {
      "cell_type": "code",
      "execution_count": null,
      "metadata": {
        "colab": {
          "base_uri": "https://localhost:8080/",
          "height": 0
        },
        "id": "nr9njM0ajwYF",
        "outputId": "62ac01d3-7f1d-475f-c521-b779782dad87"
      },
      "outputs": [],
      "source": [
        "!pip install python-dotenv\n",
        "!pip install srai[all]\n",
        "!pip install folium matplotlib mapclassify"
      ]
    },
    {
      "cell_type": "code",
      "execution_count": null,
      "metadata": {
        "colab": {
          "base_uri": "https://localhost:8080/",
          "height": 0
        },
        "id": "Q6OOvMPasn-f",
        "outputId": "c806ff53-9086-4890-b49d-0e4166f304b8"
      },
      "outputs": [],
      "source": [
        "!pip install pgvector  # Install the pgvector module\n",
        "!pip install geoalchemy2  # Install the geoalchemy2 module"
      ]
    },
    {
      "cell_type": "code",
      "execution_count": null,
      "metadata": {
        "id": "fq9pMtQKqlnl"
      },
      "outputs": [],
      "source": [
        "import pandas as pd\n",
        "from sqlalchemy import create_engine, Table, Column, Integer, Float, MetaData\n",
        "from sqlalchemy.dialects.postgresql import ARRAY\n",
        "import geopandas as gpd\n",
        "from pgvector.sqlalchemy import Vector\n",
        "from geoalchemy2 import Geometry\n",
        "from sqlalchemy import text, insert\n",
        "import numpy as np"
      ]
    },
    {
      "cell_type": "code",
      "execution_count": null,
      "metadata": {
        "colab": {
          "base_uri": "https://localhost:8080/",
          "height": 161,
          "referenced_widgets": [
            "0b000a496c784bbc864ba66df1c5a72d",
            "f95710028a3341aeb34e7d37e0996d66"
          ]
        },
        "id": "IsR2obqrj49X",
        "outputId": "06fd4990-f69b-40aa-c70e-210906e86b92"
      },
      "outputs": [],
      "source": [
        "from srai.embedders import Hex2VecEmbedder\n",
        "from srai.joiners import IntersectionJoiner\n",
        "from srai.loaders import OSMPbfLoader\n",
        "from srai.loaders.osm_loaders.filters import HEX2VEC_FILTER\n",
        "from srai.neighbourhoods.h3_neighbourhood import H3Neighbourhood\n",
        "from srai.regionalizers import H3Regionalizer, geocode_to_region_gdf\n",
        "from srai.plotting import plot_regions, plot_numeric_data\n",
        "\n",
        "loader = OSMPbfLoader()\n",
        "regionalizer = H3Regionalizer(resolution=11)\n",
        "joiner = IntersectionJoiner()\n",
        "\n",
        "area = geocode_to_region_gdf(\"City of London\")\n",
        "features = loader.load(area, HEX2VEC_FILTER)\n",
        "regions = regionalizer.transform(area)\n",
        "joint = joiner.transform(regions, features)"
      ]
    },
    {
      "cell_type": "code",
      "execution_count": null,
      "metadata": {
        "id": "bNnBbT9vj7n8"
      },
      "outputs": [],
      "source": [
        "embedder = Hex2VecEmbedder()\n",
        "neighbourhood = H3Neighbourhood(regions_gdf=regions)"
      ]
    },
    {
      "cell_type": "code",
      "execution_count": null,
      "metadata": {
        "colab": {
          "base_uri": "https://localhost:8080/",
          "height": 353,
          "referenced_widgets": [
            "8f0a8c7c54144768b82f30e8e18abe1f",
            "9b04b8c894b24c218db01d57ddf092c7",
            "ccb5b8bf2e6d4249b309ceeeea991f32",
            "62c16cf089364efb86876e668fbac302",
            "852af29a873f4e019c9268d015360ece",
            "31e1e019779340758bcf91a185688b8e",
            "ab6269ed01d84ab38ac339a4b3f98001",
            "e37db66fddee4c1e9db5e06f37e3f313",
            "4568bfd1be3a4f578f86c65041863897",
            "3b7c9ea0396b42de9cb017f67fbc052e",
            "06b56042ef914ab2af2f4fa21beb28cb"
          ]
        },
        "id": "_j5Lz5_-kMGx",
        "outputId": "263d59aa-7193-4511-a2ca-86b2b6b5ed90"
      },
      "outputs": [],
      "source": [
        "embedder = Hex2VecEmbedder([15, 10, 3])\n",
        "\n",
        "# Option 1: fit and transform\n",
        "embedder.fit(regions, features, joint, neighbourhood, batch_size=128)\n",
        "embeddings = embedder.transform(regions, features, joint)\n",
        "\n",
        "# Option 2: fit_transform\n",
        "# embeddings = lightning_model.fit_transform(regions, features, joint, neighbourhood, batch_size=128)"
      ]
    },
    {
      "cell_type": "code",
      "execution_count": null,
      "metadata": {
        "colab": {
          "base_uri": "https://localhost:8080/",
          "height": 951
        },
        "id": "aPvx6cKkkP-0",
        "outputId": "44873dce-288c-462d-d2ce-13f929d7d141"
      },
      "outputs": [],
      "source": [
        "folium_map = plot_regions(area, colormap=[\"rgba(0,0,0,0.1)\"], tiles_style=\"CartoDB positron\")\n",
        "plot_numeric_data(regions, 1, embeddings, map=folium_map)"
      ]
    },
    {
      "cell_type": "code",
      "execution_count": null,
      "metadata": {
        "colab": {
          "base_uri": "https://localhost:8080/",
          "height": 455
        },
        "id": "2cZx5szepifY",
        "outputId": "20d19f07-38e8-4365-cb97-ea0961d3d3ff"
      },
      "outputs": [],
      "source": [
        "embeddings"
      ]
    },
    {
      "cell_type": "code",
      "execution_count": null,
      "metadata": {
        "colab": {
          "base_uri": "https://localhost:8080/",
          "height": 0
        },
        "id": "J06NThHfpnFP",
        "outputId": "e665ad0e-6b05-449e-a5f5-9657116381ef"
      },
      "outputs": [],
      "source": [
        "embeddings_vector = embeddings.to_numpy()\n",
        "embeddings_vector.shape"
      ]
    },
    {
      "cell_type": "code",
      "execution_count": null,
      "metadata": {
        "id": "ZleA871xqVUJ"
      },
      "outputs": [],
      "source": [
        "embeddings_df = pd.DataFrame({\n",
        "    'region': regions['geometry'],\n",
        "    'embeddings': embeddings_vector.tolist()\n",
        "})"
      ]
    },
    {
      "cell_type": "code",
      "execution_count": null,
      "metadata": {
        "colab": {
          "base_uri": "https://localhost:8080/",
          "height": 238
        },
        "id": "sdcmNu1Yqhag",
        "outputId": "5853ca56-ceef-4913-e1da-bd7cd4344880"
      },
      "outputs": [],
      "source": [
        "#convert embeddings_df to gdf\n",
        "\n",
        "embeddings_gdf = gpd.GeoDataFrame(embeddings_df, geometry='region')\n",
        "embeddings_gdf.head()"
      ]
    },
    {
      "cell_type": "code",
      "execution_count": null,
      "metadata": {
        "id": "ZDdhRykFuF9z"
      },
      "outputs": [],
      "source": [
        "records = []\n",
        "for _, row in embeddings_gdf.iterrows():\n",
        "    records.append({\n",
        "        'region': row['region'].wkt,  # Convert geometry to WKT format for insertion\n",
        "        'embeddings': np.array(row['embeddings']).tolist()  # Ensure it's a list\n",
        "    })"
      ]
    },
    {
      "cell_type": "markdown",
      "metadata": {
        "id": "0WVW8Ge2qsPl"
      },
      "source": [
        "Save the embeddings in the GeoBase"
      ]
    },
    {
      "cell_type": "code",
      "execution_count": null,
      "metadata": {
        "id": "Q_V3F5eMqEzn"
      },
      "outputs": [],
      "source": [
        "from google.colab import userdata\n",
        "db_string = userdata.get('db_string')"
      ]
    },
    {
      "cell_type": "code",
      "execution_count": null,
      "metadata": {
        "id": "E4VC_EKZqNd2"
      },
      "outputs": [],
      "source": [
        "# Create a connection to the database\n",
        "engine = create_engine(db_string)"
      ]
    },
    {
      "cell_type": "code",
      "execution_count": null,
      "metadata": {
        "id": "p49jHjmxtkmo"
      },
      "outputs": [],
      "source": [
        "create_table_sql = \"\"\"\n",
        "BEGIN;\n",
        "CREATE TABLE embeddings_vector (\n",
        "    id SERIAL PRIMARY KEY,\n",
        "    region GEOMETRY(POLYGON, 4326),\n",
        "    embeddings VECTOR(3)\n",
        ");\n",
        "COMMIT;\n",
        "\"\"\""
      ]
    },
    {
      "cell_type": "code",
      "execution_count": null,
      "metadata": {
        "id": "yrE7M1G8toSt"
      },
      "outputs": [],
      "source": [
        "with engine.connect() as connection:\n",
        "    connection.execute(text(create_table_sql))"
      ]
    },
    {
      "cell_type": "code",
      "execution_count": null,
      "metadata": {
        "colab": {
          "base_uri": "https://localhost:8080/",
          "height": 0
        },
        "id": "nnLUCK4HqQkk",
        "outputId": "81e1dafd-574e-4172-94cd-4335eff5e90e"
      },
      "outputs": [],
      "source": [
        "# Test the connection\n",
        "try:\n",
        "    connection = engine.connect()\n",
        "    print(\"Connection to the database successful!\")\n",
        "    connection.close()\n",
        "except Exception as e:\n",
        "    print(\"Connection failed:\", e)\n"
      ]
    },
    {
      "cell_type": "code",
      "execution_count": null,
      "metadata": {
        "id": "3-aFZ9Zwr8v4"
      },
      "outputs": [],
      "source": [
        "# Define the table metadata\n",
        "metadata = MetaData()\n",
        "\n",
        "# Define the table\n",
        "malmo_embeddings = Table(\n",
        "    'embeddings_vector', metadata,\n",
        "    Column('id', Integer, primary_key=True),\n",
        "    Column('region', Geometry('GEOMETRY', srid=4326)),\n",
        "    Column('embeddings', Vector(3))\n",
        ")"
      ]
    },
    {
      "cell_type": "code",
      "execution_count": null,
      "metadata": {
        "id": "ERKjHosfsg5K"
      },
      "outputs": [],
      "source": [
        "metadata.create_all(engine)"
      ]
    },
    {
      "cell_type": "code",
      "execution_count": null,
      "metadata": {
        "colab": {
          "base_uri": "https://localhost:8080/",
          "height": 0
        },
        "id": "dmHy6cAZsDPa",
        "outputId": "66c5dd13-f26f-4f64-b032-ebe00f534a80"
      },
      "outputs": [],
      "source": [
        "#save data into embeddings_vector\n",
        "\n",
        "records = []\n",
        "for _, row in embeddings_gdf.iterrows():\n",
        "    records.append({\n",
        "        'region': row['region'].wkt,  # Convert geometry to WKT format for insertion\n",
        "        'embeddings': np.array(row['embeddings']).tolist()  # Ensure it's a list\n",
        "    })\n",
        "print(records[0])"
      ]
    },
    {
      "cell_type": "code",
      "execution_count": null,
      "metadata": {
        "id": "XKnz8l4vrtHG"
      },
      "outputs": [],
      "source": [
        "with engine.connect() as conn:\n",
        "    with conn.begin():\n",
        "      conn.execute(insert(malmo_embeddings), records)\n",
        "      conn.commit()"
      ]
    },
    {
      "cell_type": "code",
      "execution_count": null,
      "metadata": {
        "colab": {
          "base_uri": "https://localhost:8080/",
          "height": 0
        },
        "id": "tOPn9p9-qzi9",
        "outputId": "b211bc77-4677-49a3-d5b6-28ef2ed08182"
      },
      "outputs": [],
      "source": [
        "#we can save in geobase in two ways one is\n",
        "\n",
        "# Convert 'region' column to WKT format\n",
        "# embeddings_gdf['region'] = embeddings_gdf['region'].apply(lambda geom: geom.wkt)\n",
        "\n",
        "# Use to_sql to save the data\n",
        "embeddings_gdf.to_sql('embeddings_vector', engine, if_exists='append', index=False, dtype={ 'embeddings': ARRAY(Float)})"
      ]
    },
    {
      "cell_type": "code",
      "execution_count": null,
      "metadata": {
        "id": "VoXWSKivu9j3"
      },
      "outputs": [],
      "source": [
        "query = \"SELECT * FROM embeddings_vector\"\n",
        "read_df = gpd.read_postgis(query, engine,geom_col='region')"
      ]
    },
    {
      "cell_type": "code",
      "execution_count": null,
      "metadata": {},
      "outputs": [],
      "source": [
        "# Check the type of each column\n",
        "print(read_df.dtypes)\n",
        "\n",
        "# Verify if the 'embeddings' column can be converted to a numeric vector\n",
        "import ast\n",
        "try:\n",
        "    read_df['embeddings'] = read_df['embeddings'].apply(ast.literal_eval)\n",
        "    print(\"The 'embeddings' column can be converted to a numeric vector.\")\n",
        "except Exception as e:\n",
        "    print(f\"Error converting 'embeddings' column: {e}\")\n"
      ]
    }
  ],
  "metadata": {
    "colab": {
      "provenance": []
    },
    "kernelspec": {
      "display_name": "Python 3.12.5 64-bit",
      "language": "python",
      "name": "python3"
    },
    "language_info": {
      "name": "python",
      "version": "3.12.5"
    },
    "vscode": {
      "interpreter": {
        "hash": "aee8b7b246df8f9039afb4144a1f6fd8d2ca17a180786b69acc140d282b71a49"
      }
    },
    "widgets": {
      "application/vnd.jupyter.widget-state+json": {
        "06b56042ef914ab2af2f4fa21beb28cb": {
          "model_module": "@jupyter-widgets/controls",
          "model_module_version": "1.5.0",
          "model_name": "DescriptionStyleModel",
          "state": {
            "_model_module": "@jupyter-widgets/controls",
            "_model_module_version": "1.5.0",
            "_model_name": "DescriptionStyleModel",
            "_view_count": null,
            "_view_module": "@jupyter-widgets/base",
            "_view_module_version": "1.2.0",
            "_view_name": "StyleView",
            "description_width": ""
          }
        },
        "0b000a496c784bbc864ba66df1c5a72d": {
          "model_module": "@jupyter-widgets/output",
          "model_module_version": "1.0.0",
          "model_name": "OutputModel",
          "state": {
            "_dom_classes": [],
            "_model_module": "@jupyter-widgets/output",
            "_model_module_version": "1.0.0",
            "_model_name": "OutputModel",
            "_view_count": null,
            "_view_module": "@jupyter-widgets/output",
            "_view_module_version": "1.0.0",
            "_view_name": "OutputView",
            "layout": "IPY_MODEL_f95710028a3341aeb34e7d37e0996d66",
            "msg_id": "",
            "outputs": [
              {
                "data": {
                  "text/html": "<pre style=\"white-space:pre;overflow-x:auto;line-height:normal;font-family:Menlo,'DejaVu Sans Mono',consolas,'Courier New',monospace\">  [  32/32] Saving final geoparquet file <span style=\"color: #800080; text-decoration-color: #800080\">100%</span> <span style=\"color: #729c1f; text-decoration-color: #729c1f\">━━━━━━━━━━━━━━━━━━━━━━━━━━━━━━━━━━━━━━━━</span> <span style=\"color: #008000; text-decoration-color: #008000\">2/2</span> • <span style=\"color: #808000; text-decoration-color: #808000\">0:00:00</span> &lt; <span style=\"color: #008080; text-decoration-color: #008080\">0:00:00</span> •  \n</pre>\n",
                  "text/plain": "  [  32/32] Saving final geoparquet file \u001b[35m100%\u001b[0m \u001b[38;2;114;156;31m━━━━━━━━━━━━━━━━━━━━━━━━━━━━━━━━━━━━━━━━\u001b[0m \u001b[32m2/2\u001b[0m • \u001b[33m0:00:00\u001b[0m < \u001b[36m0:00:00\u001b[0m •  \n"
                },
                "metadata": {},
                "output_type": "display_data"
              }
            ]
          }
        },
        "31e1e019779340758bcf91a185688b8e": {
          "model_module": "@jupyter-widgets/base",
          "model_module_version": "1.2.0",
          "model_name": "LayoutModel",
          "state": {
            "_model_module": "@jupyter-widgets/base",
            "_model_module_version": "1.2.0",
            "_model_name": "LayoutModel",
            "_view_count": null,
            "_view_module": "@jupyter-widgets/base",
            "_view_module_version": "1.2.0",
            "_view_name": "LayoutView",
            "align_content": null,
            "align_items": null,
            "align_self": null,
            "border": null,
            "bottom": null,
            "display": null,
            "flex": null,
            "flex_flow": null,
            "grid_area": null,
            "grid_auto_columns": null,
            "grid_auto_flow": null,
            "grid_auto_rows": null,
            "grid_column": null,
            "grid_gap": null,
            "grid_row": null,
            "grid_template_areas": null,
            "grid_template_columns": null,
            "grid_template_rows": null,
            "height": null,
            "justify_content": null,
            "justify_items": null,
            "left": null,
            "margin": null,
            "max_height": null,
            "max_width": null,
            "min_height": null,
            "min_width": null,
            "object_fit": null,
            "object_position": null,
            "order": null,
            "overflow": null,
            "overflow_x": null,
            "overflow_y": null,
            "padding": null,
            "right": null,
            "top": null,
            "visibility": null,
            "width": null
          }
        },
        "3b7c9ea0396b42de9cb017f67fbc052e": {
          "model_module": "@jupyter-widgets/base",
          "model_module_version": "1.2.0",
          "model_name": "LayoutModel",
          "state": {
            "_model_module": "@jupyter-widgets/base",
            "_model_module_version": "1.2.0",
            "_model_name": "LayoutModel",
            "_view_count": null,
            "_view_module": "@jupyter-widgets/base",
            "_view_module_version": "1.2.0",
            "_view_name": "LayoutView",
            "align_content": null,
            "align_items": null,
            "align_self": null,
            "border": null,
            "bottom": null,
            "display": null,
            "flex": null,
            "flex_flow": null,
            "grid_area": null,
            "grid_auto_columns": null,
            "grid_auto_flow": null,
            "grid_auto_rows": null,
            "grid_column": null,
            "grid_gap": null,
            "grid_row": null,
            "grid_template_areas": null,
            "grid_template_columns": null,
            "grid_template_rows": null,
            "height": null,
            "justify_content": null,
            "justify_items": null,
            "left": null,
            "margin": null,
            "max_height": null,
            "max_width": null,
            "min_height": null,
            "min_width": null,
            "object_fit": null,
            "object_position": null,
            "order": null,
            "overflow": null,
            "overflow_x": null,
            "overflow_y": null,
            "padding": null,
            "right": null,
            "top": null,
            "visibility": null,
            "width": null
          }
        },
        "4568bfd1be3a4f578f86c65041863897": {
          "model_module": "@jupyter-widgets/controls",
          "model_module_version": "1.5.0",
          "model_name": "ProgressStyleModel",
          "state": {
            "_model_module": "@jupyter-widgets/controls",
            "_model_module_version": "1.5.0",
            "_model_name": "ProgressStyleModel",
            "_view_count": null,
            "_view_module": "@jupyter-widgets/base",
            "_view_module_version": "1.2.0",
            "_view_name": "StyleView",
            "bar_color": null,
            "description_width": ""
          }
        },
        "62c16cf089364efb86876e668fbac302": {
          "model_module": "@jupyter-widgets/controls",
          "model_module_version": "1.5.0",
          "model_name": "HTMLModel",
          "state": {
            "_dom_classes": [],
            "_model_module": "@jupyter-widgets/controls",
            "_model_module_version": "1.5.0",
            "_model_name": "HTMLModel",
            "_view_count": null,
            "_view_module": "@jupyter-widgets/controls",
            "_view_module_version": "1.5.0",
            "_view_name": "HTMLView",
            "description": "",
            "description_tooltip": null,
            "layout": "IPY_MODEL_3b7c9ea0396b42de9cb017f67fbc052e",
            "placeholder": "​",
            "style": "IPY_MODEL_06b56042ef914ab2af2f4fa21beb28cb",
            "value": " 80/80 [00:04&lt;00:00, 19.96it/s, v_num=0]"
          }
        },
        "852af29a873f4e019c9268d015360ece": {
          "model_module": "@jupyter-widgets/base",
          "model_module_version": "1.2.0",
          "model_name": "LayoutModel",
          "state": {
            "_model_module": "@jupyter-widgets/base",
            "_model_module_version": "1.2.0",
            "_model_name": "LayoutModel",
            "_view_count": null,
            "_view_module": "@jupyter-widgets/base",
            "_view_module_version": "1.2.0",
            "_view_name": "LayoutView",
            "align_content": null,
            "align_items": null,
            "align_self": null,
            "border": null,
            "bottom": null,
            "display": "inline-flex",
            "flex": null,
            "flex_flow": "row wrap",
            "grid_area": null,
            "grid_auto_columns": null,
            "grid_auto_flow": null,
            "grid_auto_rows": null,
            "grid_column": null,
            "grid_gap": null,
            "grid_row": null,
            "grid_template_areas": null,
            "grid_template_columns": null,
            "grid_template_rows": null,
            "height": null,
            "justify_content": null,
            "justify_items": null,
            "left": null,
            "margin": null,
            "max_height": null,
            "max_width": null,
            "min_height": null,
            "min_width": null,
            "object_fit": null,
            "object_position": null,
            "order": null,
            "overflow": null,
            "overflow_x": null,
            "overflow_y": null,
            "padding": null,
            "right": null,
            "top": null,
            "visibility": null,
            "width": "100%"
          }
        },
        "8f0a8c7c54144768b82f30e8e18abe1f": {
          "model_module": "@jupyter-widgets/controls",
          "model_module_version": "1.5.0",
          "model_name": "HBoxModel",
          "state": {
            "_dom_classes": [],
            "_model_module": "@jupyter-widgets/controls",
            "_model_module_version": "1.5.0",
            "_model_name": "HBoxModel",
            "_view_count": null,
            "_view_module": "@jupyter-widgets/controls",
            "_view_module_version": "1.5.0",
            "_view_name": "HBoxView",
            "box_style": "",
            "children": [
              "IPY_MODEL_9b04b8c894b24c218db01d57ddf092c7",
              "IPY_MODEL_ccb5b8bf2e6d4249b309ceeeea991f32",
              "IPY_MODEL_62c16cf089364efb86876e668fbac302"
            ],
            "layout": "IPY_MODEL_852af29a873f4e019c9268d015360ece"
          }
        },
        "9b04b8c894b24c218db01d57ddf092c7": {
          "model_module": "@jupyter-widgets/controls",
          "model_module_version": "1.5.0",
          "model_name": "HTMLModel",
          "state": {
            "_dom_classes": [],
            "_model_module": "@jupyter-widgets/controls",
            "_model_module_version": "1.5.0",
            "_model_name": "HTMLModel",
            "_view_count": null,
            "_view_module": "@jupyter-widgets/controls",
            "_view_module_version": "1.5.0",
            "_view_name": "HTMLView",
            "description": "",
            "description_tooltip": null,
            "layout": "IPY_MODEL_31e1e019779340758bcf91a185688b8e",
            "placeholder": "​",
            "style": "IPY_MODEL_ab6269ed01d84ab38ac339a4b3f98001",
            "value": "Epoch 2: 100%"
          }
        },
        "ab6269ed01d84ab38ac339a4b3f98001": {
          "model_module": "@jupyter-widgets/controls",
          "model_module_version": "1.5.0",
          "model_name": "DescriptionStyleModel",
          "state": {
            "_model_module": "@jupyter-widgets/controls",
            "_model_module_version": "1.5.0",
            "_model_name": "DescriptionStyleModel",
            "_view_count": null,
            "_view_module": "@jupyter-widgets/base",
            "_view_module_version": "1.2.0",
            "_view_name": "StyleView",
            "description_width": ""
          }
        },
        "ccb5b8bf2e6d4249b309ceeeea991f32": {
          "model_module": "@jupyter-widgets/controls",
          "model_module_version": "1.5.0",
          "model_name": "FloatProgressModel",
          "state": {
            "_dom_classes": [],
            "_model_module": "@jupyter-widgets/controls",
            "_model_module_version": "1.5.0",
            "_model_name": "FloatProgressModel",
            "_view_count": null,
            "_view_module": "@jupyter-widgets/controls",
            "_view_module_version": "1.5.0",
            "_view_name": "ProgressView",
            "bar_style": "success",
            "description": "",
            "description_tooltip": null,
            "layout": "IPY_MODEL_e37db66fddee4c1e9db5e06f37e3f313",
            "max": 80,
            "min": 0,
            "orientation": "horizontal",
            "style": "IPY_MODEL_4568bfd1be3a4f578f86c65041863897",
            "value": 80
          }
        },
        "e37db66fddee4c1e9db5e06f37e3f313": {
          "model_module": "@jupyter-widgets/base",
          "model_module_version": "1.2.0",
          "model_name": "LayoutModel",
          "state": {
            "_model_module": "@jupyter-widgets/base",
            "_model_module_version": "1.2.0",
            "_model_name": "LayoutModel",
            "_view_count": null,
            "_view_module": "@jupyter-widgets/base",
            "_view_module_version": "1.2.0",
            "_view_name": "LayoutView",
            "align_content": null,
            "align_items": null,
            "align_self": null,
            "border": null,
            "bottom": null,
            "display": null,
            "flex": "2",
            "flex_flow": null,
            "grid_area": null,
            "grid_auto_columns": null,
            "grid_auto_flow": null,
            "grid_auto_rows": null,
            "grid_column": null,
            "grid_gap": null,
            "grid_row": null,
            "grid_template_areas": null,
            "grid_template_columns": null,
            "grid_template_rows": null,
            "height": null,
            "justify_content": null,
            "justify_items": null,
            "left": null,
            "margin": null,
            "max_height": null,
            "max_width": null,
            "min_height": null,
            "min_width": null,
            "object_fit": null,
            "object_position": null,
            "order": null,
            "overflow": null,
            "overflow_x": null,
            "overflow_y": null,
            "padding": null,
            "right": null,
            "top": null,
            "visibility": null,
            "width": null
          }
        },
        "f95710028a3341aeb34e7d37e0996d66": {
          "model_module": "@jupyter-widgets/base",
          "model_module_version": "1.2.0",
          "model_name": "LayoutModel",
          "state": {
            "_model_module": "@jupyter-widgets/base",
            "_model_module_version": "1.2.0",
            "_model_name": "LayoutModel",
            "_view_count": null,
            "_view_module": "@jupyter-widgets/base",
            "_view_module_version": "1.2.0",
            "_view_name": "LayoutView",
            "align_content": null,
            "align_items": null,
            "align_self": null,
            "border": null,
            "bottom": null,
            "display": null,
            "flex": null,
            "flex_flow": null,
            "grid_area": null,
            "grid_auto_columns": null,
            "grid_auto_flow": null,
            "grid_auto_rows": null,
            "grid_column": null,
            "grid_gap": null,
            "grid_row": null,
            "grid_template_areas": null,
            "grid_template_columns": null,
            "grid_template_rows": null,
            "height": null,
            "justify_content": null,
            "justify_items": null,
            "left": null,
            "margin": null,
            "max_height": null,
            "max_width": null,
            "min_height": null,
            "min_width": null,
            "object_fit": null,
            "object_position": null,
            "order": null,
            "overflow": null,
            "overflow_x": null,
            "overflow_y": null,
            "padding": null,
            "right": null,
            "top": null,
            "visibility": null,
            "width": null
          }
        }
      }
    }
  },
  "nbformat": 4,
  "nbformat_minor": 0
}
